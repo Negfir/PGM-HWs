{
 "cells": [
  {
   "cell_type": "markdown",
   "metadata": {},
   "source": [
    "# ASSIGNMENT 1                                                McGill:COMP767 - FALL 2019 \n",
    "Student name (ID)"
   ]
  },
  {
   "cell_type": "code",
   "execution_count": 13,
   "metadata": {},
   "outputs": [],
   "source": [
    "import numpy as np\n",
    "import networkx as nx\n",
    "from utils import tensor_mult"
   ]
  },
  {
   "cell_type": "markdown",
   "metadata": {},
   "source": [
    "### Problem 1. (5 points)\n",
    "\n",
    "- __a__: 2 points) Derive the __Markov__ inequality below for a positive discrete random variable\n",
    "(_Hint:_ rearrange to prove $a P(x \\geq a) \\leq \\mathbb{E}[X]$ and substitute the definition of expectation.)\n",
    "$$P(x > a) \\leq \\frac{\\mathbb{E}[X]}{a}$$\n",
    "- __b__: 3 points) Using this inequality prove the following, known as __Chebyshev__ inequality:\n",
    "$$P(|X - \\mathbb{E}[X]| > a) < \\frac{Var(X)}{a^2}$$"
   ]
  },
  {
   "cell_type": "markdown",
   "metadata": {},
   "source": [
    "### Solution\n",
    "__a__) \n",
    "\n",
    "__b__) "
   ]
  },
  {
   "cell_type": "markdown",
   "metadata": {},
   "source": [
    "### Problem 2. (5 points)\n",
    "\n",
    "In showing that factorization in a Markov Network leads to local CIs we used the\n",
    "following fact. Prove it using the definition of conditional independence:\n",
    "\n",
    "$$\n",
    "P \\models (X \\perp Y \\mid Z) \\quad \\Leftrightarrow \\quad P(X=x, Y=y, Z=z) = f(x, z)g(y,z) \n",
    "$$\n"
   ]
  },
  {
   "cell_type": "markdown",
   "metadata": {},
   "source": [
    "### Solution\n",
    "\n",
    "- $\\Rightarrow$) 2 points \n",
    "\n",
    "- $\\Leftarrow$) 3 points\n"
   ]
  },
  {
   "cell_type": "markdown",
   "metadata": {},
   "source": [
    "### Problem 3. (10 points)\n",
    "\n",
    "Here, we want to represent the joint probability $P(D,I,G,S,L)$ and answer arbitrary queries such as $P(D,I \\mid G=0, L=1)$ for the running example below that we used extensively in the class.\n",
    "<img src=\"./files/3_4.png\" width=\"400\">\n",
    "For this, we need to define CPTs. We use the ```networkx``` package to represent a DAG and add CPTs as node attributes. the CPT for a node with $K$ parents is a $K+1$ dimensional array, where the first dimension is for the child node and the order of parents follows their order when the method ```DAG.predecessors(node)``` is called. This is the order in which the corresponding edges are added. \n",
    "\n",
    "Your task is to write the body of the function ```Pr()``` that calculates the array of the posterior marginal, given a DAG -- e.g., $P(D, L \\mid G= 2, I = 1)$. \n",
    "For your implementation you can use the ```tensor_mult``` helper function provided in ```utility.py```. \n",
    "\n",
    "You can try implementing this function in three steps:\n",
    "\n",
    "- calculate the joint PMF\n",
    "- condition on the evidence (e.g., by multiplying the joint array with appropriate tensor of 0s and 1s.\n",
    "- marginalize and normalize the final results (normalization might be necessary depending on your implementation of conditioning on the evidence)\n",
    "\n",
    "There are more efficient ways of calculating the posterior marginals that we study in the __inference__ lectures.\n",
    "\n",
    "### Solution"
   ]
  },
  {
   "cell_type": "code",
   "execution_count": 14,
   "metadata": {},
   "outputs": [
    {
     "name": "stdout",
     "output_type": "stream",
     "text": [
      "Is this a DAG? True\n"
     ]
    }
   ],
   "source": [
    "# creating the BayesNet\n",
    "BN = nx.DiGraph()\n",
    "BN.add_node('D', cpt=np.array([.6,.4]))\n",
    "BN.add_node('I', cpt=np.array([.7,.3]))\n",
    "\n",
    "#a 3-dimensional array of shape 3x2x2 representing P(G|I,D).  \n",
    "#note that the order of parents matters, here we have made sure the order is the same as\n",
    "#the order returned by BN.predecessors('G')\n",
    "BN.add_node('G', cpt=np.array([[[.3,.05],[.9,.5]],[[.4,.25],[.08,.3]],[[.3,.7],[.02,.2]]]))\n",
    "BN.add_node('L', cpt=np.array([[.1,.4,.99],[.9,.6,.01]]))\n",
    "BN.add_node('S', cpt=np.array([[.95,.2],[.05,.8]]))\n",
    "\n",
    "# adding edges (note that the order of I,D -> G is important)\n",
    "BN.add_edge('I','G')\n",
    "BN.add_edge('D','G')\n",
    "BN.add_edge('G', 'L')\n",
    "BN.add_edge('I', 'S')\n",
    "\n",
    "print(\"Is this a DAG? {}\".format(nx.is_directed_acyclic_graph(BN)))\n",
    "# we can use topological sort to get a topological ordering of nodes. What is the complexity of this sorting op.?\n",
    "list(nx.topological_sort(BN))\n",
    "\n",
    "\n",
    "def Pr(target, \n",
    "       evidence, # a dictionary of observations to conditin on -- eg, {'L':0, 'I':1}\n",
    "       DAG #DAG containing the CPTs (BN above)\n",
    "      ):\n",
    "\n",
    "    # >>>> YOUR CODE HERE >>>>>>>\n",
    "    \n",
    "    # >>>> YOUR CODE HERE >>>>>>>\n",
    "    \n",
    "    marginal /= marginal.sum()\n",
    "    return marginal"
   ]
  },
  {
   "cell_type": "markdown",
   "metadata": {},
   "source": [
    "### Problem 4. (10 points)\n",
    "\n",
    "Your task in this assignment is to implement __D-separation__ algorithm for a DAG representation, similar to what we used in the previous problem. Note that (assuming non-deterministic factors) D-separation does not need access to the CPTs. The following function returns ```True``` if the given CI holds and ```False``` otherwise."
   ]
  },
  {
   "cell_type": "code",
   "execution_count": 15,
   "metadata": {},
   "outputs": [],
   "source": [
    "def is_cond_independent(X, #non-empty list of nodes -- e.g., ['I', 'D'] \n",
    "                        Y, #non-empty list of nodes. It has no intersection with X -- e.g., ['S']\n",
    "                        Z, #list of nodes -- e.g., []\n",
    "                        DAG #networkx DAG -- e.g., BN defined above\n",
    "                       ):\n",
    "    # >>>> YOUR CODE HERE >>>>>>>\n",
    "    \n",
    "    # >>>> YOUR CODE HERE >>>>>>>"
   ]
  },
  {
   "cell_type": "markdown",
   "metadata": {},
   "source": [
    "Let us verify that the CIs that we get from D-separation, match the definition of conditional independence using the conditional probabilities that we can numerically calculate using your solution to the problem 3. \n",
    "In the following we look at all queries in the form of $P \\overset{?}{\\models} {D} \\perp {S} \\mid \\mathbf{Z} = \\mathbf{0}$, where $\\mathbf{Z} \\subseteq \\{I,G,L\\}$ may contain any of the remaining variables. "
   ]
  },
  {
   "cell_type": "code",
   "execution_count": 18,
   "metadata": {},
   "outputs": [
    {
     "name": "stdout",
     "output_type": "stream",
     "text": [
      "passed the minimal test\n"
     ]
    }
   ],
   "source": [
    "domains = {'I':[0,1], 'L':[0,1], 'G':[0,1,2]}\n",
    "for Z in [{},{'I':0}, {'G':0}, {'L':0}, {'I':0,'G':0}, {'I':0,'L':0}, {'L':0,'G':0}, {'I':0,'G':0,'L':0}]:\n",
    "    #conditional independence from D-separation\n",
    "    CI_alg = is_cond_independent(['D'], ['S'], Z.keys(), BN)\n",
    "    #conditional independence according to conditional probabilities\n",
    "    CI_num = np.max(np.abs(Pr(['D','S'], Z, BN) - np.outer(Pr(['D'], Z, BN),Pr(['S'], Z, BN)))) < 1e-10\n",
    "    #they should match\n",
    "    assert(CI_num == CI_alg)\n",
    "print(\"passed the minimal test\")"
   ]
  },
  {
   "cell_type": "code",
   "execution_count": null,
   "metadata": {},
   "outputs": [],
   "source": []
  }
 ],
 "metadata": {
  "kernelspec": {
   "display_name": "Python 3",
   "language": "python",
   "name": "python3"
  },
  "language_info": {
   "codemirror_mode": {
    "name": "ipython",
    "version": 3
   },
   "file_extension": ".py",
   "mimetype": "text/x-python",
   "name": "python",
   "nbconvert_exporter": "python",
   "pygments_lexer": "ipython3",
   "version": "3.7.4"
  }
 },
 "nbformat": 4,
 "nbformat_minor": 2
}
